{
 "cells": [
  {
   "cell_type": "markdown",
   "metadata": {},
   "source": [
    "# Data preparation for model training\n",
    "\n",
    "In this notebook we prepare the dataset to later train our deep learning model. To do this we need to:\n",
    "\n",
    "- Start a new W&B `run` and use our raw data `artifact`\n",
    "- Split the data and save the splits into a new W&B `artifact`\n",
    "- Join the information about the split with the W&B EDA `Table` ([see link - might need permission](https://wandb.ai/doc93/mlops-course-001/reports/Exploration-of-BDD1K-Autonomous-Vehicle-dataset--Vmlldzo1MDUzNjU1)), created in the notebook `01_ExplorDataAnalysis.ipynb`"
   ]
  },
  {
   "cell_type": "code",
   "execution_count": 1,
   "metadata": {},
   "outputs": [],
   "source": [
    "import os, warnings\n",
    "import wandb\n",
    "\n",
    "import pandas as pd\n",
    "from fastai.vision.all import *\n",
    "from sklearn.model_selection import StratifiedGroupKFold\n",
    "\n",
    "import params\n",
    "warnings.filterwarnings('ignore')"
   ]
  },
  {
   "cell_type": "markdown",
   "metadata": {},
   "source": [
    "# Download dataset from W&B artifact"
   ]
  },
  {
   "cell_type": "markdown",
   "metadata": {},
   "source": [
    "Start a new `W&B run` so that we can reproduce data processing if needed"
   ]
  },
  {
   "cell_type": "code",
   "execution_count": 2,
   "metadata": {},
   "outputs": [
    {
     "name": "stderr",
     "output_type": "stream",
     "text": [
      "Failed to detect the name of this notebook, you can set it manually with the WANDB_NOTEBOOK_NAME environment variable to enable code saving.\n",
      "\u001b[34m\u001b[1mwandb\u001b[0m: Currently logged in as: \u001b[33md-oliver-cort\u001b[0m (\u001b[33mdoc93\u001b[0m). Use \u001b[1m`wandb login --relogin`\u001b[0m to force relogin\n"
     ]
    },
    {
     "data": {
      "text/html": [
       "Tracking run with wandb version 0.15.8"
      ],
      "text/plain": [
       "<IPython.core.display.HTML object>"
      ]
     },
     "metadata": {},
     "output_type": "display_data"
    },
    {
     "data": {
      "text/html": [
       "Run data is saved locally in <code>/Users/davidoc/Documents/personal/MLOps-model-development/1_build_end2end_prototype/wandb/run-20230804_120847-4fyb1jc2</code>"
      ],
      "text/plain": [
       "<IPython.core.display.HTML object>"
      ]
     },
     "metadata": {},
     "output_type": "display_data"
    },
    {
     "data": {
      "text/html": [
       "Syncing run <strong><a href='https://wandb.ai/doc93/mlops-course-001/runs/4fyb1jc2' target=\"_blank\">splendid-grass-3</a></strong> to <a href='https://wandb.ai/doc93/mlops-course-001' target=\"_blank\">Weights & Biases</a> (<a href='https://wandb.me/run' target=\"_blank\">docs</a>)<br/>"
      ],
      "text/plain": [
       "<IPython.core.display.HTML object>"
      ]
     },
     "metadata": {},
     "output_type": "display_data"
    },
    {
     "data": {
      "text/html": [
       " View project at <a href='https://wandb.ai/doc93/mlops-course-001' target=\"_blank\">https://wandb.ai/doc93/mlops-course-001</a>"
      ],
      "text/plain": [
       "<IPython.core.display.HTML object>"
      ]
     },
     "metadata": {},
     "output_type": "display_data"
    },
    {
     "data": {
      "text/html": [
       " View run at <a href='https://wandb.ai/doc93/mlops-course-001/runs/4fyb1jc2' target=\"_blank\">https://wandb.ai/doc93/mlops-course-001/runs/4fyb1jc2</a>"
      ],
      "text/plain": [
       "<IPython.core.display.HTML object>"
      ]
     },
     "metadata": {},
     "output_type": "display_data"
    }
   ],
   "source": [
    "run = wandb.init(project=params.WANDB_PROJECT, entity=params.ENTITY, job_type=\"data_split\")"
   ]
  },
  {
   "cell_type": "markdown",
   "metadata": {},
   "source": [
    "Use the `artifact` that we previously saved to W&B"
   ]
  },
  {
   "cell_type": "code",
   "execution_count": 5,
   "metadata": {},
   "outputs": [
    {
     "name": "stderr",
     "output_type": "stream",
     "text": [
      "\u001b[34m\u001b[1mwandb\u001b[0m: Downloading large artifact bdd_simple_1k:latest, 846.60MB. 4007 files... \n",
      "\u001b[34m\u001b[1mwandb\u001b[0m:   4007 of 4007 files downloaded.  \n",
      "Done. 0:0:11.3\n"
     ]
    }
   ],
   "source": [
    "# Get latest version of the arifact (artifact names, etc. stored in params)\n",
    "raw_data_artifact = run.use_artifact(f'{params.RAW_DATA_AT}:latest')\n",
    "path = Path(raw_data_artifact.download())"
   ]
  },
  {
   "cell_type": "code",
   "execution_count": 6,
   "metadata": {},
   "outputs": [
    {
     "data": {
      "text/plain": [
       "(#5) [Path('artifacts/bdd_simple_1k:v1/images'),Path('artifacts/bdd_simple_1k:v1/labels'),Path('artifacts/bdd_simple_1k:v1/LICENSE.txt'),Path('artifacts/bdd_simple_1k:v1/eda_table.table.json'),Path('artifacts/bdd_simple_1k:v1/media')]"
      ]
     },
     "execution_count": 6,
     "metadata": {},
     "output_type": "execute_result"
    }
   ],
   "source": [
    "# Check that artifact has downloaded properly\n",
    "path.ls()"
   ]
  },
  {
   "cell_type": "markdown",
   "metadata": {},
   "source": [
    "# Data split \n",
    "\n",
    "When splitting the data into train, validation, test sets, we need to take into account what we learned in the EDA stage ([see link - might need permission](https://wandb.ai/doc93/mlops-course-001/reports/Exploration-of-BDD1K-Autonomous-Vehicle-dataset--Vmlldzo1MDUzNjU1)).\n",
    " \n",
    "Data got stored in a W&B `table`. From this table we need to read columns: of file names, groups (derived from the file name) and target (here we use our rare class bicycle for stratification)."
   ]
  },
  {
   "cell_type": "code",
   "execution_count": 11,
   "metadata": {},
   "outputs": [
    {
     "name": "stderr",
     "output_type": "stream",
     "text": [
      "\u001b[34m\u001b[1mwandb\u001b[0m: Downloading large artifact bdd_simple_1k:latest, 846.60MB. 4007 files... \n",
      "\u001b[34m\u001b[1mwandb\u001b[0m:   4007 of 4007 files downloaded.  \n",
      "Done. 0:0:10.4\n"
     ]
    }
   ],
   "source": [
    "# Retrive EDA table from the raw data artifact\n",
    "orig_eda_table = raw_data_artifact.get(\"eda_table\")"
   ]
  },
  {
   "cell_type": "code",
   "execution_count": 12,
   "metadata": {},
   "outputs": [],
   "source": [
    "# Get filenames from the EDA table column \"File_Name\"\n",
    "fnames = orig_eda_table.get_column(\"File_Name\")\n",
    "# Or\n",
    "# fnames = os.listdir(path/'images')\n",
    "\n",
    "# Get first part of file name (the group)\n",
    "groups = [s.split('-')[0] for s in fnames]"
   ]
  },
  {
   "cell_type": "code",
   "execution_count": 14,
   "metadata": {},
   "outputs": [],
   "source": [
    "# Use the \"bicycle\" column from the EDA table for stratification\n",
    "y = orig_eda_table.get_column(\"bicycle\")"
   ]
  },
  {
   "cell_type": "markdown",
   "metadata": {},
   "source": [
    "We will split the data into train (80%), validation (10%) and test (10%) sets. We need to be careful to:\n",
    "\n",
    "- Avoid `leakage`: by grouping data according to video identifier (we want to make sure that the model can generalize to new cars or video frames)\n",
    "\n",
    "- Handle the label `imbalance`: by stratifying data with our target column (\"bicycle\")"
   ]
  },
  {
   "cell_type": "code",
   "execution_count": 29,
   "metadata": {},
   "outputs": [],
   "source": [
    "df = pd.DataFrame()\n",
    "df['File_Name'] = fnames\n",
    "df['fold'] = -1"
   ]
  },
  {
   "cell_type": "code",
   "execution_count": 30,
   "metadata": {},
   "outputs": [],
   "source": [
    "# We use sklearn's `StratifiedGroupKFold` to split the data into 10 folds \n",
    "# - assign 1 fold for test, 1 for validation and the rest for training\n",
    "cv = StratifiedGroupKFold(n_splits=10)\n",
    "for i, (train_idxs, test_idxs) in enumerate(cv.split(fnames, y, groups)):\n",
    "    df.loc[test_idxs, ['fold']] = i"
   ]
  },
  {
   "cell_type": "code",
   "execution_count": 32,
   "metadata": {},
   "outputs": [
    {
     "data": {
      "text/plain": [
       "Stage\n",
       "train    800\n",
       "valid    100\n",
       "test     100\n",
       "Name: count, dtype: int64"
      ]
     },
     "execution_count": 32,
     "metadata": {},
     "output_type": "execute_result"
    }
   ],
   "source": [
    "df['Stage'] = 'train'\n",
    "df.loc[df.fold == 0, ['Stage']] = 'test'\n",
    "df.loc[df.fold == 1, ['Stage']] = 'valid'\n",
    "del df['fold']\n",
    "df.Stage.value_counts()"
   ]
  },
  {
   "cell_type": "code",
   "execution_count": 36,
   "metadata": {},
   "outputs": [],
   "source": [
    "# Save dataframe to a csv  file\n",
    "df.to_csv('data_split.csv', index=False)"
   ]
  },
  {
   "cell_type": "markdown",
   "metadata": {},
   "source": [
    "# Create new artifact"
   ]
  },
  {
   "cell_type": "code",
   "execution_count": 37,
   "metadata": {},
   "outputs": [],
   "source": [
    "# params.PROCESSED_DATA_AT contains name of new dataset artefact\n",
    "processed_data_at = wandb.Artifact(params.PROCESSED_DATA_AT, type=\"split_data\")"
   ]
  },
  {
   "cell_type": "code",
   "execution_count": 39,
   "metadata": {},
   "outputs": [
    {
     "name": "stderr",
     "output_type": "stream",
     "text": [
      "\u001b[34m\u001b[1mwandb\u001b[0m: Adding directory to artifact (./artifacts/bdd_simple_1k:v1)... Done. 3.4s\n"
     ]
    },
    {
     "name": "stdout",
     "output_type": "stream",
     "text": [
      "artifacts/bdd_simple_1k:v1\n"
     ]
    }
   ],
   "source": [
    "processed_data_at.add_file('data_split.csv', name='data_split.csv')\n",
    "processed_data_at.add_dir(path)\n",
    "print(path)"
   ]
  },
  {
   "cell_type": "markdown",
   "metadata": {},
   "source": [
    "The split information is relevant for our analyses. \n",
    "\n",
    "Rather than uploading images again, we save the split information to a new table and join it with EDA table we created previously."
   ]
  },
  {
   "cell_type": "code",
   "execution_count": 42,
   "metadata": {},
   "outputs": [],
   "source": [
    "# Create W&B table containing stage info (train/val/test) as a column\n",
    "data_split_table = wandb.Table(dataframe=df[['File_Name', 'Stage']])\n",
    "\n",
    "# Join new W&B table with EDA W&B table (avoid saving images again)\n",
    "# - structure: wandb.JoinedTable(table_1, table_2, join_key)\n",
    "join_table = wandb.JoinedTable(orig_eda_table, data_split_table, \"File_Name\")"
   ]
  },
  {
   "cell_type": "code",
   "execution_count": 44,
   "metadata": {},
   "outputs": [
    {
     "data": {
      "text/plain": [
       "<wandb.sdk.artifacts.artifact_manifest_entry.ArtifactManifestEntry at 0x151122070>"
      ]
     },
     "execution_count": 44,
     "metadata": {},
     "output_type": "execute_result"
    }
   ],
   "source": [
    "# Add new W&B table to the artifact\n",
    "processed_data_at.add(join_table, \"eda_table_data_split\")"
   ]
  },
  {
   "cell_type": "markdown",
   "metadata": {},
   "source": [
    "# Log artifact to W&B and finish `run`. "
   ]
  },
  {
   "cell_type": "code",
   "execution_count": 45,
   "metadata": {},
   "outputs": [
    {
     "data": {
      "text/html": [
       "Waiting for W&B process to finish... <strong style=\"color:green\">(success).</strong>"
      ],
      "text/plain": [
       "<IPython.core.display.HTML object>"
      ]
     },
     "metadata": {},
     "output_type": "display_data"
    },
    {
     "name": "stderr",
     "output_type": "stream",
     "text": [
      "wandb: WARNING Source type is set to 'repo' but some required information is missing from the environment. A job will not be created from this run. See https://docs.wandb.ai/guides/launch/create-job\n"
     ]
    },
    {
     "data": {
      "text/html": [
       " View run <strong style=\"color:#cdcd00\">splendid-grass-3</strong> at: <a href='https://wandb.ai/doc93/mlops-course-001/runs/4fyb1jc2' target=\"_blank\">https://wandb.ai/doc93/mlops-course-001/runs/4fyb1jc2</a><br/>Synced 5 W&B file(s), 0 media file(s), 4009 artifact file(s) and 0 other file(s)"
      ],
      "text/plain": [
       "<IPython.core.display.HTML object>"
      ]
     },
     "metadata": {},
     "output_type": "display_data"
    },
    {
     "data": {
      "text/html": [
       "Find logs at: <code>./wandb/run-20230804_120847-4fyb1jc2/logs</code>"
      ],
      "text/plain": [
       "<IPython.core.display.HTML object>"
      ]
     },
     "metadata": {},
     "output_type": "display_data"
    }
   ],
   "source": [
    "run.log_artifact(processed_data_at)\n",
    "run.finish()"
   ]
  },
  {
   "cell_type": "code",
   "execution_count": null,
   "metadata": {},
   "outputs": [],
   "source": []
  },
  {
   "cell_type": "code",
   "execution_count": null,
   "metadata": {},
   "outputs": [],
   "source": []
  }
 ],
 "metadata": {
  "kernelspec": {
   "display_name": "venv_wnb",
   "language": "python",
   "name": "python3"
  },
  "language_info": {
   "codemirror_mode": {
    "name": "ipython",
    "version": 3
   },
   "file_extension": ".py",
   "mimetype": "text/x-python",
   "name": "python",
   "nbconvert_exporter": "python",
   "pygments_lexer": "ipython3",
   "version": "3.8.6"
  },
  "orig_nbformat": 4
 },
 "nbformat": 4,
 "nbformat_minor": 2
}

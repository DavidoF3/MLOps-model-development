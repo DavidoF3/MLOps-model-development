{
 "cells": [
  {
   "cell_type": "markdown",
   "metadata": {},
   "source": [
    "# Refactor of baseline model\n",
    "\n",
    "In this notebook the code defined in the [notebook 03_TrainBaselineModel.ipynb](../1_build_end2end_prototype/03_TrainBaselineModel.ipynb) is refactored into functions. These functions are placed in the script xxxxx to easily run W&B sweeps for hyperparameter tuning."
   ]
  },
  {
   "cell_type": "code",
   "execution_count": 1,
   "metadata": {},
   "outputs": [],
   "source": [
    "import wandb\n",
    "import pandas as pd\n",
    "from fastai.vision.all import *\n",
    "from fastai.callback.wandb import WandbCallback\n",
    "import torchvision.models as tvmodels\n",
    "\n",
    "import params\n",
    "# Helper functions - for example metrics we will track during our experiments\n",
    "from utils import get_predictions, create_iou_table, MIOU, BackgroundIOU, \\\n",
    "                  RoadIOU, TrafficLightIOU, TrafficSignIOU, PersonIOU, VehicleIOU, BicycleIOU"
   ]
  },
  {
   "cell_type": "code",
   "execution_count": 2,
   "metadata": {},
   "outputs": [],
   "source": [
    "# SimpleNamespace - creates an object to store values as attributes without creating your own (almost empty) class.\n",
    "\n",
    "train_config = SimpleNamespace(\n",
    "    framework=\"fastai\",\n",
    "    img_size=(180, 320),\n",
    "    batch_size=8,\n",
    "    augment=True, # use data augmentation\n",
    "    epochs=10, \n",
    "    lr=2e-3,\n",
    "    arch=\"resnet18\"\n",
    "    pretrained=True,  # whether to use pretrained encoder\n",
    "    seed=42,\n",
    "    log_preds=True\n",
    ")"
   ]
  },
  {
   "cell_type": "code",
   "execution_count": null,
   "metadata": {},
   "outputs": [],
   "source": [
    "# Initialise wandb run?????????????????????????????????????\n",
    "\n",
    "def download_data():\n",
    "    # Use artefacts to track the data linage of our models\n",
    "    processed_data_artifact = wandb.use_artifact(f'{params.PROCESSED_DATA_AT}:latest')\n",
    "    # Download split data from W&B artifact\n",
    "    processed_dataset_dir = Path(processed_data_artifact.download())\n",
    "    return processed_dataset_dir"
   ]
  },
  {
   "cell_type": "code",
   "execution_count": null,
   "metadata": {},
   "outputs": [],
   "source": [
    "def label_func(fname):\n",
    "    return (fname.parent.parent/\"labels\")/f\"{fname.stem}_mask.png\""
   ]
  },
  {
   "cell_type": "code",
   "execution_count": null,
   "metadata": {},
   "outputs": [],
   "source": [
    "def get_df(processed_dataset_dir, is_test=False):\n",
    "    # Read csv containing data split data (train/valid/test)\n",
    "    df = pd.read_csv(processed_dataset_dir / 'data_split.csv')\n",
    "\n",
    "    if not is_test:\n",
    "        # Remove test set rows\n",
    "        df = df[df.Stage != 'test'].reset_index(drop=True)\n",
    "        # is_valid column will tell our trainer how we want to split data between training and validation.\n",
    "        df['is_valid'] = df.Stage == 'valid'\n",
    "    else:\n",
    "        df = df[df.Stage == 'test'].reset_index(drop=True)\n",
    "\n",
    "    # Add image and mask label paths to dataframe\n",
    "    df[\"image_fname\"] = [processed_dataset_dir/f'images/{f}' for f in df.File_Name.values]\n",
    "    df[\"label_fname\"] = [label_func(f) for f in df.image_fname.values]\n",
    "\n",
    "    return df"
   ]
  },
  {
   "cell_type": "code",
   "execution_count": null,
   "metadata": {},
   "outputs": [],
   "source": [
    "# fastAI dataloader\n",
    "def get_data(df, bs=4, img_size=(180, 320), augment=True):\n",
    "    block = DataBlock(blocks=(ImageBlock, MaskBlock(codes=params.BDD_CLASSES)),\n",
    "                  get_x=ColReader(\"image_fname\"),\n",
    "                  get_y=ColReader(\"label_fname\"),\n",
    "                  splitter=ColSplitter(),\n",
    "                  item_tfms=Resize(img_size),\n",
    "                  batch_tfms=aug_transforms() if augment else None,\n",
    "                 )\n",
    "    return block.dataloaders(df, bs=bs)"
   ]
  },
  {
   "cell_type": "code",
   "execution_count": null,
   "metadata": {},
   "outputs": [],
   "source": [
    "def log_predictions(learn):\n",
    "    \"Log a Table with model predictions\"\n",
    "    samples, outputs, predictions = get_predictions(learn)\n",
    "    table = create_iou_table(samples, outputs, predictions, params.BDD_CLASSES)\n",
    "    wandb.log({\"pred_table\":table})"
   ]
  },
  {
   "cell_type": "code",
   "execution_count": null,
   "metadata": {},
   "outputs": [],
   "source": [
    "def log_final_metrics(learn):\n",
    "    scores = learn.validate()\n",
    "    metric_names = ['final_loss'] + [f'final_{x.name}' for x in learn.metrics]\n",
    "    final_results = {metric_names[i] : scores[i] for i in range(len(scores))}\n",
    "    for k,v in final_results.items(): \n",
    "        wandb.summary[k] = v"
   ]
  },
  {
   "cell_type": "code",
   "execution_count": null,
   "metadata": {},
   "outputs": [],
   "source": [
    "def train(config):\n",
    "    # Set seed for reproducibility.\n",
    "    set_seed(train_config.seed, reproducible=True)\n",
    "\n",
    "    # - pass train_config into W&B run to control training hyperparameters\n",
    "    # - project=params.WANDB_PROJECT to make this W&B run be part of same project as previous  notebook W&B runs\n",
    "    run = wandb.init(project=params.WANDB_PROJECT, entity=params.ENTITY, job_type=\"training\", config=config)\n",
    "\n",
    "    config = wandb.config\n",
    "\n",
    "    processed_dataset_dir = download_data()\n",
    "    df = get_df(processed_dataset_dir)\n",
    "\n",
    "    dls = get_data(df, bs=config.batch_size, img_size=config.img_size, augment=config.augment)\n",
    "\n",
    "    # We use intersection over union metrics: mean across all classes (MIOU) and IOU for each class separately.\n",
    "    metrics = [MIOU(), BackgroundIOU(), RoadIOU(), TrafficLightIOU(), \\\n",
    "            TrafficSignIOU(), PersonIOU(), VehicleIOU(), BicycleIOU()]\n",
    "\n",
    "    # The model is a unet based on a pretrained resnet18 backbone\n",
    "    # - backbone type obtained from torchvision.modles (defined in config variable)\n",
    "    learn = unet_learner(dls, arch=getattr(tvmodels, config.arch), pretrained=config.pretrained, metrics=metrics)\n",
    "\n",
    "    callbacks = [\n",
    "        SaveModelCallback(monitor='miou'),              # Save model with best miou metric\n",
    "        WandbCallback(log_preds=False, log_model=True)  # We log predictions manually on W&B (so set log_preds=False), and we want to log model W&B (so log_model=True)\n",
    "    ]\n",
    "\n",
    "    # Train model\n",
    "    learn.fit_one_cycle(config.epochs, config.lr, cbs=callbacks)\n",
    "\n",
    "    if config.log_preds:\n",
    "        log_predictions(learn)\n",
    "\n",
    "    log_final_metrics(learn)\n",
    "\n",
    "    wandb.finish()"
   ]
  },
  {
   "cell_type": "markdown",
   "metadata": {},
   "source": [
    "# Run training"
   ]
  },
  {
   "cell_type": "code",
   "execution_count": null,
   "metadata": {},
   "outputs": [],
   "source": [
    "train(train_config)"
   ]
  }
 ],
 "metadata": {
  "kernelspec": {
   "display_name": "venv_wnb",
   "language": "python",
   "name": "python3"
  },
  "language_info": {
   "codemirror_mode": {
    "name": "ipython",
    "version": 3
   },
   "file_extension": ".py",
   "mimetype": "text/x-python",
   "name": "python",
   "nbconvert_exporter": "python",
   "pygments_lexer": "ipython3",
   "version": "3.8.6"
  },
  "orig_nbformat": 4
 },
 "nbformat": 4,
 "nbformat_minor": 2
}
